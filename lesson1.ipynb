{
 "cells": [
  {
   "cell_type": "markdown",
   "metadata": {},
   "source": [
    "# 机器实战第一次作业"
   ]
  },
  {
   "cell_type": "markdown",
   "metadata": {},
   "source": [
    "## Numpy 练习demo"
   ]
  },
  {
   "cell_type": "markdown",
   "metadata": {},
   "source": [
    "基础用法：\n",
    "Numpy主要操作的对象是同类型的多维数组。它是一个由正整数元组索引，元素类型相同的表（通常元素是数字）。在 NumPy 维度被称为 axes, axes 的数量称为 rank。Numpy的数组类型为ndarray."
   ]
  },
  {
   "cell_type": "code",
   "execution_count": 24,
   "metadata": {},
   "outputs": [
    {
     "name": "stdout",
     "output_type": "stream",
     "text": [
      "[[ 0  1  2  3  4]\n",
      " [ 5  6  7  8  9]\n",
      " [10 11 12 13 14]]\n",
      "(3, 5)\n",
      "2\n",
      "int32\n",
      "4\n",
      "15\n",
      "对每个数进行exp运算 [4.85165195e+08 1.06864746e+13 2.35385267e+17 5.18470553e+21]\n",
      "切片运算 [30 40 50]\n",
      "迭代运算：\n",
      "40\n",
      "60\n",
      "80\n",
      "100\n",
      "加法运算： [[ 6.  8.]\n",
      " [10. 12.]]\n",
      "减法运算： [[-4. -4.]\n",
      " [-4. -4.]]\n",
      "乘法运算: [[ 5. 12.]\n",
      " [21. 32.]]\n",
      "除法运算： [[0.2        0.33333333]\n",
      " [0.42857143 0.5       ]]\n",
      "矩阵运算: [[19. 22.]\n",
      " [43. 50.]]\n",
      "广播： [[ 2  2  4]\n",
      " [ 5  5  7]\n",
      " [ 8  8 10]\n",
      " [11 11 13]]\n"
     ]
    }
   ],
   "source": [
    "import numpy as np\n",
    "\n",
    "a = np.arange(15).reshape(3, 5)\n",
    "print(a)\n",
    "# 了解它的结构\n",
    "# shape ,是数组的维数，这是由每个维度的大小组成的一个元组，对于一个 n 行 m 列的矩阵。shape 是 (n, m)\n",
    "print(a.shape )\n",
    "# ndim :数组的 axes （维数）数值大小\n",
    "print(a.ndim)\n",
    "# 在数组中描述元素类型的一个对象\n",
    "print(a.dtype.name)\n",
    "# itemsize:数组中每个元素所占字节数。例如，一个 float64 的 itemsize 是 8 ( = 64/8bit)\n",
    "print(a.itemsize)\n",
    "#size:数组元素的个数总和，这等于 shape 元组数字的乘积。\n",
    "print(a.size)\n",
    "##############################################\n",
    "#基本操作\n",
    "B = np.array( [20,30,40,50] )\n",
    "bwxp=np.exp(B)\n",
    "print(\"对每个数进行exp运算\",bwxp)\n",
    "#索引迭代\n",
    "bsort=B[1:]\n",
    "print(\"切片运算\",bsort)\n",
    "print(\"迭代运算：\")\n",
    "for  i in B:\n",
    "    print(i*2)\n",
    "# 常用计算\n",
    "x = np.array([[1,2],[3,4]], dtype=np.float64)\n",
    "y = np.array([[5,6],[7,8]], dtype=np.float64)\n",
    "print(\"加法运算：\",x+y)\n",
    "print(\"减法运算：\",x-y)\n",
    "print(\"乘法运算:\",x*y)\n",
    "print(\"除法运算：\",x/y)\n",
    "print(\"矩阵运算:\",x.dot(y))\n",
    "# 广播机制，它让Numpy可以让不同大小的矩阵在一起进行数学计算\n",
    "x = np.array([[1,2,3], [4,5,6], [7,8,9], [10, 11, 12]])\n",
    "v = np.array([1, 0, 1])\n",
    "y = x + v\n",
    "print(\"广播：\",y)"
   ]
  },
  {
   "cell_type": "markdown",
   "metadata": {},
   "source": [
    "## Panads练习demo"
   ]
  },
  {
   "cell_type": "code",
   "execution_count": 56,
   "metadata": {},
   "outputs": [
    {
     "name": "stdout",
     "output_type": "stream",
     "text": [
      "             A   B   C   D\n",
      "2013-01-01   0   1   2   3\n",
      "2013-01-02   4   5   6   7\n",
      "2013-01-03   8   9  10  11\n",
      "2013-01-04  12  13  14  15\n",
      "2013-01-05  16  17  18  19\n",
      "2013-01-06  20  21  22  23\n",
      "选择A的数据： 2013-01-01     0\n",
      "2013-01-02     4\n",
      "2013-01-03     8\n",
      "2013-01-04    12\n",
      "2013-01-05    16\n",
      "2013-01-06    20\n",
      "Freq: D, Name: A, dtype: int32\n",
      "##############################################################\n",
      "跨越多行的选择数据：             A  B   C   D\n",
      "2013-01-01  0  1   2   3\n",
      "2013-01-02  4  5   6   7\n",
      "2013-01-03  8  9  10  11\n",
      "根据标签选择： A    4\n",
      "B    5\n",
      "C    6\n",
      "D    7\n",
      "Name: 2013-01-02 00:00:00, dtype: int32\n",
      "根据位置坐标来选择 13\n",
      "             A  B   C   D  E\n",
      "2013-01-01   0  1   2   3  1\n",
      "2013-01-02   4  5   6   7  2\n",
      "2013-01-03   8  0  10  11  3\n",
      "2013-01-04  12  0  14  15  4\n",
      "2013-01-05  16  0  18  19  5\n",
      "2013-01-06  20  0  22  23  6\n",
      "##############################################################\n",
      "             A  B   C   D  E\n",
      "2013-01-01   0  1   2   3  1\n",
      "2013-01-02   4  5   6   7  2\n",
      "2013-01-03   8  0  10  11  3\n",
      "2013-01-04  12  0  14  15  4\n",
      "2013-01-05  16  0  18  19  5\n",
      "2013-01-06  20  0  22  23  6\n",
      "合并后的数据：      a    b    c    d\n",
      "0  3.0  3.0  3.0  3.0\n",
      "1  3.0  3.0  3.0  3.0\n",
      "2  3.0  3.0  3.0  3.0\n",
      "3  0.0  0.0  0.0  0.0\n",
      "4  0.0  0.0  0.0  0.0\n",
      "5  0.0  0.0  0.0  0.0\n",
      "6  2.0  2.0  2.0  2.0\n",
      "7  2.0  2.0  2.0  2.0\n",
      "8  2.0  2.0  2.0  2.0\n",
      "纵向外的方式合并:      a    b    c    d\n",
      "1  3.0  3.0  3.0  3.0\n",
      "2  3.0  3.0  3.0  3.0\n",
      "3  3.0  3.0  3.0  3.0\n",
      "2  0.0  0.0  0.0  0.0\n",
      "3  0.0  0.0  0.0  0.0\n",
      "4  0.0  0.0  0.0  0.0\n",
      "append的方式添加：      a    b    c    d\n",
      "0  3.0  3.0  3.0  3.0\n",
      "1  3.0  3.0  3.0  3.0\n",
      "2  3.0  3.0  3.0  3.0\n",
      "3  2.0  2.0  2.0  2.0\n",
      "4  2.0  2.0  2.0  2.0\n",
      "5  2.0  2.0  2.0  2.0\n"
     ]
    }
   ],
   "source": [
    "import pandas as pd\n",
    "#选择数据\n",
    "dates = pd.date_range('20130101', periods=6)         # 创建一个6X4矩阵数据\n",
    "df = pd.DataFrame(np.arange(24).reshape((6,4)),index=dates, columns=['A','B','C','D'])\n",
    "print(df)\n",
    "print(\"选择A的数据：\",df['A'])\n",
    "print(\"##############################################################\")\n",
    "print(\"跨越多行的选择数据：\",df[0:3])\n",
    "#使用标签来选择数据 loc\n",
    "print(\"根据标签选择：\",df.loc['20130102'])\n",
    "#根据位置进行选择iloc\n",
    "print(\"根据位置坐标来选择\",df.iloc[3,1])\n",
    "#设置值\n",
    "df.B[df.A>4] = 0 #根据条件设置，对于A？4的位置，将B设置为0\n",
    "df['E'] = pd.Series([1,2,3,4,5,6], index=pd.date_range('20130101',periods=6)) #添加数据，但是长度必须对齐\n",
    "print(df)\n",
    "print(\"##############################################################\")\n",
    "#处理数据\n",
    "#df.iloc[0,1] = np.nan\n",
    "#df.iloc[1,2] = np.nan\n",
    "#df.dropna(axis=1,how='any') # axis=0,     # 0: 对行进行操作; 1: 对列进行操作, 'any': 只要存在 NaN 就 drop 掉; 'all': 必须全部是 NaN 才 drop\n",
    "df.fillna(value=0)#将NAN 的值用1来代替\n",
    "print(df)\n",
    "#合并\n",
    "df1 = pd.DataFrame(np.ones((3,4))*3, columns=['a','b','c','d'] ,index=[1,2,3])\n",
    "df2 = pd.DataFrame(np.ones((3,4))*0, columns=['a','b','c','d'],index=[2,3,4])\n",
    "df3 = pd.DataFrame(np.ones((3,4))*2, columns=['a','b','c','d'])\n",
    "\n",
    "#concat纵向合并\n",
    "res = pd.concat([df1, df2, df3], axis=0)\n",
    "res = pd.concat([df1, df2, df3], axis=0, ignore_index=True)#重置index\n",
    "print(\"合并后的数据：\",res)\n",
    "#join方式合并\n",
    "#纵向\"外\"合并df1与df2\n",
    "res = pd.concat([df1, df2], axis=0, join='outer')\n",
    "print(\"纵向外的方式合并:\",res)\n",
    "#append方式添加数据\n",
    "s1 = pd.Series([1,2,3,4], index=['a','b','c','d'])\n",
    "res = df1.append(df3, ignore_index=True)\n",
    "print(\"append的方式添加：\",res)"
   ]
  },
  {
   "cell_type": "markdown",
   "metadata": {},
   "source": [
    "## matplotlib练习demo\n",
    "可以对Python中的数据进行快速的可视化，并以多种格式输出。"
   ]
  },
  {
   "cell_type": "code",
   "execution_count": 58,
   "metadata": {},
   "outputs": [
    {
     "data": {
      "image/png": "[encoded data removed]",
      "text/plain": [
       "<Figure size 432x288 with 1 Axes>"
      ]
     },
     "metadata": {},
     "output_type": "display_data"
    }
   ],
   "source": [
    "#简单例子\n",
    "import matplotlib.pyplot as plt\n",
    "import numpy as np\n",
    "%matplotlib inline\n",
    "X = np.linspace(-np.pi, np.pi, 256, endpoint=True)\n",
    "C, S = np.cos(X), np.sin(X)\n",
    "plt.plot(X,C)\n",
    "plt.plot(X,S)\n",
    "\n",
    "plt.show()"
   ]
  },
  {
   "cell_type": "code",
   "execution_count": 59,
   "metadata": {},
   "outputs": [
    {
     "data": {
      "image/png": "[encoded data removed]",
      "text/plain": [
       "<Figure size 432x288 with 1 Axes>"
      ]
     },
     "metadata": {},
     "output_type": "display_data"
    }
   ],
   "source": [
    "# 其他图像\n",
    "import matplotlib.path as mpath\n",
    "import matplotlib.patches as mpatches\n",
    "import matplotlib.pyplot as plt\n",
    "from matplotlib import font_manager as fm\n",
    "# 显示中文\n",
    "prop = fm.FontProperties(fname='C:/Windows/Fonts/simkai.ttf')\n",
    "fig, ax = plt.subplots()\n",
    "\n",
    "Path = mpath.Path\n",
    "path_data = [\n",
    "    (Path.MOVETO, (1.58, -2.57)),\n",
    "    (Path.CURVE4, (0.35, -1.1)),\n",
    "    (Path.CURVE4, (-1.75, 2.0)),\n",
    "    (Path.CURVE4, (0.375, 2.0)),\n",
    "    (Path.LINETO, (0.85, 1.15)),\n",
    "    (Path.CURVE4, (2.2, 3.2)),\n",
    "    (Path.CURVE4, (3, 0.05)),\n",
    "    (Path.CURVE4, (2.0, -0.5)),\n",
    "    (Path.CLOSEPOLY, (1.58, -2.57)),\n",
    "]\n",
    "codes, verts = zip(*path_data)\n",
    "path = mpath.Path(verts, codes)\n",
    "patch = mpatches.PathPatch(path, facecolor='r', alpha=0.5)\n",
    "ax.add_patch(patch)\n",
    "\n",
    "# plot control points and connecting lines\n",
    "x, y = zip(*path.vertices)\n",
    "#line, = ax.plot(x, y, 'go-')\n",
    "\n",
    "ax.grid()\n",
    "ax.axis('equal')\n",
    "plt.title(u'你的心', fontproperties=prop)\n",
    "plt.show()"
   ]
  },
  {
   "cell_type": "code",
   "execution_count": 61,
   "metadata": {},
   "outputs": [
    {
     "name": "stderr",
     "output_type": "stream",
     "text": [
      "Building prefix dict from the default dictionary ...\n",
      "Loading model from cache C:\\Users\\XUWENJ~1\\AppData\\Local\\Temp\\jieba.cache\n",
      "Loading model cost 0.718 seconds.\n",
      "Prefix dict has been built succesfully.\n",
      "D:\\anaconda3\\lib\\site-packages\\ipykernel_launcher.py:18: DeprecationWarning: `imread` is deprecated!\n",
      "`imread` is deprecated in SciPy 1.0.0, and will be removed in 1.2.0.\n",
      "Use ``imageio.imread`` instead.\n"
     ]
    },
    {
     "data": {
      "image/png": "[encoded data removed]",
      "text/plain": [
       "<Figure size 432x288 with 1 Axes>"
      ]
     },
     "metadata": {},
     "output_type": "display_data"
    }
   ],
   "source": [
    "# 构造词云\n",
    "import jieba\n",
    "import jieba.analyse\n",
    "import matplotlib.pyplot as plt\n",
    "from wordcloud import WordCloud\n",
    "from scipy.misc import imread\n",
    "tagsall = u''\n",
    "f = open('self.txt').readlines()\n",
    "for line in f:\n",
    "    # 元组转换成列表，列表转换成字符\n",
    "    tags = jieba.analyse.extract_tags(line, topK=20)\n",
    "    tagsjoin = u' '.join(tags)\n",
    "    tagsall = tagsall + u\" \" + tagsjoin\n",
    "\n",
    "\n",
    "wc_cfg = WordCloud(font_path='C:/Windows/Fonts/simkai.ttf', mask=imread('F:/1.PNG'),\n",
    "                   background_color=\"white\",  # 背景色\n",
    "                   max_words=100,  # 最大词量\n",
    "                   mode='RGBA',  # 透明底色\n",
    "                   width=500,\n",
    "                   height=400,\n",
    "                   max_font_size=100  # 字体大小\n",
    "                   )\n",
    "\n",
    "wc = wc_cfg.generate(tagsall)\n",
    "plt.imshow(wc, interpolation='bilinear')\n",
    "plt.axis(\"off\")\n",
    "plt.show()"
   ]
  },
  {
   "cell_type": "code",
   "execution_count": null,
   "metadata": {},
   "outputs": [],
   "source": []
  },
  {
   "cell_type": "code",
   "execution_count": null,
   "metadata": {},
   "outputs": [],
   "source": []
  }
 ],
 "metadata": {
  "kernelspec": {
   "display_name": "Python 3",
   "language": "python",
   "name": "python3"
  },
  "language_info": {
   "codemirror_mode": {
    "name": "ipython",
    "version": 3
   },
   "file_extension": ".py",
   "mimetype": "text/x-python",
   "name": "python",
   "nbconvert_exporter": "python",
   "pygments_lexer": "ipython3",
   "version": "3.6.5"
  }
 },
 "nbformat": 4,
 "nbformat_minor": 2
}
